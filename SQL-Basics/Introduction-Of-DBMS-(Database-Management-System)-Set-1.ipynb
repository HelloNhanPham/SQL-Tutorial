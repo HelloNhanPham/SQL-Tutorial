{
 "cells": [
  {
   "cell_type": "markdown",
   "metadata": {},
   "source": [
    "# <span style='display: flex; text-align: center; color: #CD3333;'><b>INTRODUCTION OF DBMS (DATABASE MANAGEMENT SYSTEM) – SET 1</b></span>"
   ]
  },
  {
   "cell_type": "markdown",
   "metadata": {},
   "source": [
    "<div align='justify'>\n",
    "    <p>A Database Management System (DBMS) is a software system that is designed to manage and organize data in a structured manner. It allows users to create, modify, and query a database, as well as manage the security and access controls for that database.</p>\n",
    "    <p>DBMS provides an environment to store and retrieve the data in convenient and efficient manner.</p>\n",
    "    <p>Key Features of DBMS</p>\n",
    "    <p>+ <b>Data modeling</b>: A DBMS provides tools for creating and modifying data models, which define the structure and relationships of the data in a database.</p>\n",
    "    <p>+ <b>Data storage and retrieval</b>: A DBMS is responsible for storing and retrieving data from the database, and can provide various methods for searching and querying the data.</p>\n",
    "    <p>+ <b>Concurrency control</b>: A DBMS provides mechanisms for controlling concurrent access to the database, to ensure that multiple users can access the data without conflicting with each other.</p>\n",
    "    <p>+ <b>Data integrity and security</b>: A DBMS provides tools for enforcing data integrity and security constraints, such as constraints on the values of data and access controls that restrict who can access the data.</p>\n",
    "    <p>+ <b>Backup and recovery</b>: A DBMS provides mechanisms for backing up and recovering the data in the event of a system failure.</p>\n",
    "    <p>+ <b>DBMS can be classified into two types</b>: Relational Database Management System (RDBMS) and Non-Relational Database Management System (NoSQL or Non-SQL)</p>\n",
    "    <p>+ <b>RDBMS</b>: Data is organized in the form of tables and each table has a set of rows and columns. The data are related to each other through primary and foreign keys.</p>\n",
    "    <p>+ <b>NoSQL</b>: Data is organized in the form of key-value pairs, documents, graphs, or column-based. These are designed to handle large-scale, high-performance scenarios.</p>\n",
    "    <p>A database is a collection of interrelated data which helps in the efficient retrieval, insertion, and deletion of data from the database and organizes the data in the form of tables, views, schemas, reports, etc. For Example, a university database organizes the data about students, faculty, admin staff, etc. which helps in the efficient retrieval, insertion, and deletion of data from it.</p>\n",
    "</div>"
   ]
  },
  {
   "cell_type": "markdown",
   "metadata": {},
   "source": [
    "## <span style='color: #FF6A6A'><b>Database Languages</b></span>\n",
    "\n",
    "+ <p>Data Definition Language</p>\n",
    "+ <p>Data Manipulation Language</p>\n",
    "+ <p>Data Control Language</p>\n",
    "+ <p>Transactional Control Language</p>"
   ]
  },
  {
   "cell_type": "markdown",
   "metadata": {},
   "source": [
    "## <span style='color: #FF6A6A'><b>Data Definition Language</b></span>\n",
    "<p><b>DDL</b> is the short name for Data Definition Language, which deals with database schemas and descriptions, of how the data should reside in the database.</p>\n",
    "\n",
    "<div align='justify'>\n",
    "\n",
    "+ <p><b>CREATE</b>: to create a database and its objects like (table, index, views, store procedure, function, and triggers)</p>\n",
    "+ <p><b>ALTER</b>: alters the structure of the existing database</p>\n",
    "+ <p><b>DROP</b>: delete objects from the database</p>\n",
    "+ <p><b>TRUNCATE</b>: remove all records from a table, including all spaces allocated for the records are removed</p>\n",
    "+ <p><b>COMMENT</b>: add comments to the data dictionary</p>\n",
    "+ <p><b>RENAME</b>: rename an object</p>\n",
    "</div>"
   ]
  },
  {
   "cell_type": "markdown",
   "metadata": {},
   "source": [
    "## <span style='color: #FF6A6A'><b>Data Manipulation Language</b></span>\n",
    "\n",
    "<div align='justify'>\n",
    "    <p><b>DML</b> is the short name for Data Manipulation Language which deals with data manipulation and includes most common SQL statements such SELECT, INSERT, UPDATE, DELETE, etc., and it is used to store, modify, retrieve, delete and update data in a database. <b>Data query language(DQL)</b> is the subset of “Data Manipulation Language”. The most common command of DQL is <b>SELECT</b> statement. SELECT statement help on retrieving the data from the table without changing anything in the table.</p>\n",
    "\n",
    "+ <p><b>SELECT</b>: retrieve data from a database</p>\n",
    "+ <p><b>INSERT</b>: insert data into a table</p>\n",
    "+ <p><b>UPDATE</b>: updates existing data within a table</p>\n",
    "+ <p><b>DELETE</b>: Delete all records from a database table</p>\n",
    "+ <p><b>MERGE</b>: UPSERT operation (insert or update)</p>\n",
    "+ <p><b>CALL</b>: call a PL/SQL or Java subprogram</p>\n",
    "+ <p><b>EXPLAIN PLAN</b>: interpretation of the data access path</p>\n",
    "+ <p><b>LOCK TABLE</b>: concurrency Control</p>\n",
    "</div>"
   ]
  },
  {
   "cell_type": "markdown",
   "metadata": {},
   "source": [
    "## <span style='color: #FF6A6A'><b>Data Control Language</b></span>\n",
    "\n",
    "<div align='justify'>\n",
    "    <p><b>DCL</b> is short for Data Control Language which acts as an access specifier to the database, basically to grant and revoke permissions to users in the database.</p>\n",
    "\n",
    "+ <p><b>GRANT</b>: grant permissions to the user for running DML(SELECT, INSERT, DELETE,…) commands on the table</p>\n",
    "+ <p><b>REVOKE</b>: revoke permissions to the user for running DML(SELECT, INSERT, DELETE,…) commands on the specified table</p>\n",
    "</div>"
   ]
  },
  {
   "cell_type": "markdown",
   "metadata": {},
   "source": [
    "## <span style='color: #FF6A6A'><b>Transactional Control Language</b></span>\n",
    "\n",
    "<div align='justify'>\n",
    "    <p><b>TCL</b> is short for Transactional Control Language which acts as an manager for all types of transactional data and all transactions. Some of the command of TCL are:</p>\n",
    "\n",
    "+ <p><b>Roll Back</b>: Used to cancel or undo changes made in the database</p>\n",
    "+ <p><b>Commit</b>: It is used to apply or save changes in the database</p>\n",
    "+ <p><b>Save Point</b>: It is used to save the data on a temporary basis in the database</p>\n",
    "</div>"
   ]
  },
  {
   "cell_type": "markdown",
   "metadata": {},
   "source": [
    "## <span style='color: #FF6A6A'><b>Data Query Language (DQL)</b></span>\n",
    "\n",
    "<div align='justify'>\n",
    "    <p><b>Data query language(DQL)</b> is the subset of <b>“Data Manipulation Language”</b>. The most common command of DQL is 1the <b>SELECT statement</b>. SELECT statement helps us in retrieving the data from the table without changing anything or modifying the table. DQL is very important for retrieval of essential data from a database.</p>\n",
    "</div>"
   ]
  },
  {
   "cell_type": "markdown",
   "metadata": {},
   "source": [
    "## <span style='color: #FF6A6A'><b>Database Management System</b></span>\n",
    "\n",
    "<div align='justify'>\n",
    "    <p>The software which is used to manage databases is called Database Management System (DBMS). For Example, MySQL, Oracle, etc. are popular commercial DBMS used in different applications. DBMS allows users the following tasks:</p>\n",
    "\n",
    "+ <p><b>Data Definition</b>: It helps in the creation, modification, and removal of definitions that define the organization of data in the database.</p>\n",
    "+ <p><b>Data Updation</b>: It helps in the insertion, modification, and deletion of the actual data in the database.</p>\n",
    "+ <p><b>Data Retrieval</b>: It helps in the retrieval of data from the database which can be used by applications for various purposes.</p>\n",
    "+ <p><b>User Administration</b>: It helps in registering and monitoring users, enforcing data security, monitoring performance, maintaining data integrity, dealing with concurrency control, and recovering information corrupted by unexpected failure.</p>\n",
    "</div>"
   ]
  },
  {
   "cell_type": "markdown",
   "metadata": {},
   "source": [
    "## <span style='color: #FF6A6A'><b>Applications Of DBMS</b></span>\n",
    "\n",
    "<div align='justify'>\n",
    "\n",
    "+ <p><b>Enterprise Information</b>: Sales, accounting, human resources, Manufacturing, online retailers.</p>\n",
    "+ <p><b>Banking and Finance Sector</b>: Banks maintaining the customer details, accounts, loans, banking transactions, credit card transactions. Finance: Storing the information about sales and holdings, purchasing of financial stocks and bonds.</p>\n",
    "+ <p><b>University</b>: Maintaining the information about student course enrolled information, student grades, staff roles.</p>\n",
    "+ <p><b>Airlines</b>: Reservations and schedules.</p>\n",
    "+ <p><b>Telecommunications</b>: Prepaid, postpaid bills maintenance.</p>\n",
    "\n",
    "</div>"
   ]
  },
  {
   "cell_type": "markdown",
   "metadata": {},
   "source": [
    "## <span style='color: #FF6A6A'><b>Paradigm Shift From File System To DBMS</b></span>\n",
    "\n",
    "<div align='justify'>\n",
    "    <p>File System manages data using files on a hard disk. Users are allowed to create, delete, and update the files according to their requirements. Let us consider the example of file-based University Management System. Data of students is available to their respective Departments, Academics Section, Result Section, Accounts Section, Hostel Office, etc. Some of the data is common for all sections like Roll No, Name, Father Name, Address, and Phone number of students but some data is available to a particular section only like Hostel allotment number which is a part of the hostel office. Let us discuss the issues with this system:</p>\n",
    "\n",
    "+ <p><b>Redundancy of data</b>: Data is said to be redundant if the same data is copied at many places. If a student wants to change their Phone number, he or she has to get it updated in various sections. Similarly, old records must be deleted from all sections representing that student.</p>\n",
    "+ <p><b>Inconsistency of Data</b>: Data is said to be inconsistent if multiple copies of the same data do not match each other. If the Phone number is different in Accounts Section and Academics Section, it will be inconsistent. Inconsistency may be because of typing errors or not updating all copies of the same data.</p>\n",
    "+ <p><b>Difficult Data Access</b>: A user should know the exact location of the file to access data, so the process is very cumbersome and tedious. If the user wants to search the student hostel allotment number of a student from 10000 unsorted students’ records, how difficult it can be.</p>\n",
    "+ <p><b>Unauthorized Access</b>: File Systems may lead to unauthorized access to data. If a student gets access to a file having his marks, he can change it in an unauthorized way.</p>\n",
    "+ <p><b>No Concurrent Access</b>: The access of the same data by multiple users at the same time is known as concurrency. The file system does not allow concurrency as data can be accessed by only one user at a time.</p>\n",
    "+ <p><b>No Backup and Recovery</b>: The file system does not incorporate any backup and recovery of data if a file is lost or corrupted.</p>\n",
    "\n",
    "</div>"
   ]
  },
  {
   "cell_type": "markdown",
   "metadata": {},
   "source": [
    "## <span style='color: #FF6A6A'><b>Advantages Of DBMS</b></span>\n",
    "\n",
    "<div align='justify'>\n",
    "\n",
    "+ <p><b>Data organization</b>: A DBMS allows for the organization and storage of data in a structured manner, making it easy to retrieve and query the data as needed.</p>\n",
    "+ <p><b>Data integrity</b>: A DBMS provides mechanisms for enforcing data integrity constraints, such as constraints on the values of data and access controls that restrict who can access the data.</p>\n",
    "+ <p><b>Concurrent access</b>: A DBMS provides mechanisms for controlling concurrent access to the database, to ensure that multiple users can access the data without conflicting with each other.</p>\n",
    "+ <p><b>Data security</b>: A DBMS provides tools for managing the security of the data, such as controlling access to the data and encrypting sensitive data.</p>\n",
    "+ <p><b>Backup and recovery</b>: A DBMS provides mechanisms for backing up and recovering the data in the event of a system failure.</p>\n",
    "+ <p><b>Data sharing</b>: A DBMS allows multiple users to access and share the same data, which can be useful in a collaborative work environment.</p>\n",
    "\n",
    "</div>"
   ]
  },
  {
   "cell_type": "markdown",
   "metadata": {},
   "source": [
    "## <span style='color: #FF6A6A'><b>Disadvantages Of DBMS</b></span>\n",
    "\n",
    "<div align='justify'>\n",
    "\n",
    "+ <p><b>Complexity</b>: DBMS can be complex to set up and maintain, requiring specialized knowledge and skills.</p>\n",
    "+ <p><b>Performance overhead</b>: The use of a DBMS can add overhead to the performance of an application, especially in cases where high levels of concurrency are required.</p>\n",
    "+ <p><b>Scalability</b>: The use of a DBMS can limit the scalability of an application, since it requires the use of locking and other synchronization mechanisms to ensure data consistency.</p>\n",
    "+ <p><b>Cost</b>: The cost of purchasing, maintaining, and upgrading a DBMS can be high, especially for large or complex systems.</p>\n",
    "+ <p><b>Limited Use Cases</b>: Not all use cases are suitable for a DBMS, some solutions don’t need high reliability, consistency, or security and may be better served by other types of data storage.</p>\n",
    "\n",
    "<p>These are the main reasons which made a shift from file system to DBMS.</p>\n",
    "<p>Also, see a Database Management System (DBMS) is a software system that allows users to create, maintain, and manage databases. It is a collection of programs that enables users to access and manipulate data in a database. A DBMS is used to store, retrieve, and manipulate data in a way that provides security, privacy, and reliability.</p>\n",
    "\n",
    "</div>"
   ]
  },
  {
   "cell_type": "markdown",
   "metadata": {},
   "source": [
    "## <span style='color: #FF6A6A'><b>Several Types Of DBMS</b></span>\n",
    "\n",
    "<div align='justify'>\n",
    "\n",
    "+ <p><b>Relational DBMS (RDBMS)</b>: An RDBMS stores data in tables with rows and columns, and uses SQL (Structured Query Language) to manipulate the data.</p>\n",
    "+ <p><b>Object-Oriented DBMS (OODBMS)</b>: An OODBMS stores data as objects, which can be manipulated using object-oriented programming languages.</p>\n",
    "+ <p><b>NoSQL DBMS</b>: A NoSQL DBMS stores data in non-relational data structures, such as key-value pairs, document-based models, or graph models.</p>\n",
    "\n",
    "<p>Overall, a DBMS is a powerful tool for managing and manipulating data, and is used in many industries and applications, such as finance, healthcare, retail, and more.</p>\n",
    "\n",
    "</div>"
   ]
  }
 ],
 "metadata": {
  "kernelspec": {
   "display_name": "Python 3",
   "language": "python",
   "name": "python3"
  },
  "language_info": {
   "name": "python",
   "version": "3.12.3"
  }
 },
 "nbformat": 4,
 "nbformat_minor": 2
}
