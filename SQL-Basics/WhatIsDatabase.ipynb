{
 "cells": [
  {
   "cell_type": "markdown",
   "metadata": {},
   "source": [
    "# <span style='display: flex; justify-content: center; color: #FF4040;'><b>WHAT IS DATABASE?</b></span>"
   ]
  },
  {
   "cell_type": "markdown",
   "metadata": {},
   "source": [
    "<span>\n",
    "    <p align=\"justify\">A <b>database</b> is an organized collection of data stored in a computer system and usually controlled by a database management system (DBMS). The data in common databases is modeled in tables, making querying and processing efficient. Structured query language (SQL) is commonly used for data querying and writing.</p>\n",
    "    <p align=\"justify\">The database is an essential part of our life. We encounter several activities that involve our interaction with databases, for example in the bank, in the railway station, in school, in a grocery store, etc. These are the instances where we need to store a large amount of data in one place and fetch these data easily.</p>\n",
    "</span>"
   ]
  },
  {
   "cell_type": "markdown",
   "metadata": {},
   "source": [
    "## <span style='color: #FF6A6A'><b>What Is Data?</b></span>\n",
    "\n",
    "<span>\n",
    "    <p align=\"justify\"><a href='https://www.geeksforgeeks.org/what-is-data/'><b><u>Data</u></b></a> is statically raw and unprocessed information. <b>For example</b> – name, class, marks, etc. In computer language, a piece of information that can be translated into a form for efficient movement and processing is called data. Data is interchangeable information.</p>\n",
    "</span>"
   ]
  },
  {
   "cell_type": "markdown",
   "metadata": {},
   "source": [
    "## <span style='color: #FF6A6A'><b>What Is Database?</b></span>\n",
    "\n",
    "<span>\n",
    "    <p align=\"justify\">A database is a collection of data that is organized, which is also called structured data. It can be accessed or stored in a computer system. It can be managed through a <a href='https://www.geeksforgeeks.org/introduction-of-dbms-database-management-system-set-1/'><b><u>Database Management System</u></b></a> (DBMS), a software used to manage data. Database refers to related data in a structured form.</p>\n",
    "    <p align=\"justify\"><b>Application</b>: Company Information, account information, manufacturing, banking, finance transactions, telecommunications.</p>\n",
    "    <p align=\"justify\">In a database, data is organized into tables consisting of rows and columns and it is indexed so data can be updated, expanded, and deleted easily. Computer databases typically contain file records data like transactions money in one bank account to another bank account, sales and customer details, fee details of students, and product details. There are different kinds of databases, ranging from the most prevalent approach, the relational database, to a distributed database, cloud database, and <a href='https://www.geeksforgeeks.org/introduction-to-nosql/'><b><u>NoSQL databases</u></b></a>.<p slign=\"justify\">+ <b>Relational Database</b>: A relational database is made up of a set of tables with data that fits into a predefined category.</p>\n",
    "    <p align=\"justify\" >+ <b>Distributed Database</b>: A distributed database is a database in which portions of the database are stored in multiple physical locations, and in which processing is dispersed or replicated among different points in a network.</p>\n",
    "    <p align=\"justify\">+ <b>Cloud Database</b>: A cloud database is a database that typically runs on a cloud computing platform. Database service provides access to the database. Database services make the underlying software stack transparent to the user.</p>\n",
    "    <p align=\"justify\">These interactions are examples of a traditional database where data is of one type-that is textual. In advancement of technology has led to new applications of database systems. New media technology has made it possible to store images, video clips. These essential features are making <a href='https://www.geeksforgeeks.org/multimedia-database/'><b><u>Multimedia Databases</u></b></a>.</p>\n",
    "    <p align=\"justify\">Nowadays, people are becoming smart – before taking any decisions they analyze facts and figures related to it, which come from these databases. As the databases have made it easier to manage information, we are able to catch criminals and do deep research.</p>\n",
    "</span>"
   ]
  },
  {
   "cell_type": "markdown",
   "metadata": {},
   "source": [
    "## <span style='color: #FF6A6A'><b>Evolution Of Databases</b></span>\n",
    "\n",
    "### <span><b>File-Based</b></span>\n",
    "<span>\n",
    "    <p align=\"justify\">With the advent of databases in the early 1960s, they have undergone a significant evolution. The first systems used to store and edit data were navigational databases, such as the hierarchical database (which depended on a tree-like architecture and perFile-Based databases were first developed in 1968. Data in file-based databases was kept in flat files. Files provide a lot of benefits, but they also have some drawbacks.</p>\n",
    "    <p align=\"justify\">The file system’s several access techniques, such as sequential, indexed, and random, are among its main advantages.</p>\n",
    "    <p align=\"justify\">It calls for a lot of third-generation language programming, such BASIC or <a href='https://www.geeksforgeeks.org/cobol-basic-syntax/'><b><u>COBOL</u></b></a>.</p>\n",
    "</span>\n",
    "\n",
    "### <span><b>Hierarchical Data Model</b></span>\n",
    "<span>\n",
    "    <p align=\"justify\">The period of the <a href='https://www.geeksforgeeks.org/hierarchical-model-in-dbms/'><b><u>Hierarchical Database</u></b></a> was 1968–1980. IBM’s first DBMS was a prominent hierarchical database paradigm. The information management system, or IMS, was the name of it.</p>\n",
    "</span>\n",
    "\n",
    "### <span><b>Network Data Model</b></span>\n",
    "<span>\n",
    "    <p align=\"justify\"><a href='https://www.geeksforgeeks.org/network-model-in-dbms/'><b><u>Network data model</u></b></a> Charles Bachman created the Integrated Data Store (IDS), Honeywell’s first database management system. Although it was created in the early 1960s, the Conference on Data Systems Languages, or CODASYL, standardised it in 1971.</p>\n",
    "</span>\n",
    "\n",
    "### <span><b>Relational Database</b></span>\n",
    "<span>\n",
    "    <p align=\"justify\">Relational databases gained popularity in the 1980s, and <a href='https://www.geeksforgeeks.org/various-rules-of-object-oriented-dbms/'><b><u>object-oriented databases</u></b></a> in the 1990s. NoSQL databases emerged more recently in response to the internet’s rapid expansion and the demand for unstructured data processing at a faster rate. These days, self-driving databases and cloud databases are revolutionizing the ways in which data is gathered, stored, handled, and used.</p>\n",
    "</span>"
   ]
  },
  {
   "cell_type": "markdown",
   "metadata": {},
   "source": [
    "## <span style='color: #FF6A6A'><b>Types Of Databases</b></span>\n",
    "<p>There are many types of databases.</p>\n",
    "\n",
    "<span>\n",
    "    <p align=\"justify\"><b>Relational Databases</b>: A relational database’s contents are arranged as a collection of tables with rows and columns. Accessing structured data is made most flexible and efficient by relational database technology.</p>\n",
    "    <p align=\"justify\"><b>Object-Oriented Databases</b>: Similar to <a href='https://www.geeksforgeeks.org/introduction-of-object-oriented-programming/'><b><u>Object-Oriented Programming</u></b></a> (OOP), data in an object-oriented database is represented as objects.</p>\n",
    "    <p align=\"justify\"><b>Distributed Databases</b>: A distributed database is made up of two or more files that are spread across multiple locations. The database could be dispersed across many networks, housed in one physical place, or kept on several computers.</p>\n",
    "    <p align=\"justify\"><b>Data Warehouses</b>: A data warehouse is a sort of database created especially for quick query and analysis. It is a central repository for data.</p>\n",
    "    <p align=\"justify\"><b>NoSQL Databases</b>: Unlike relational databases, which specify how all data input must be formatted, NoSQL, or nonrelational databases, permit the storing and manipulation of unstructured and semistructured data. The prevalence and complexity of online applications led to the rise in popularity of NoSQL databases.</p>\n",
    "    <p align=\"justify\"><b>Graph Databases</b>: Data is stored in a graph database using entities and their relationships.</p>\n",
    "    <p align=\"justify\"><b>OLTP Database</b>: An <a href='https://www.geeksforgeeks.org/on-line-transaction-processing-oltp-system-in-dbms/'><b><u>OLTP Database</u></b></a> is a quick, analytical database made to handle lots of transactions from several users at once.</p>\n",
    "    <p align=\"justify\"><b>Open Source Databases</b>: A database system that is open source can have either a <a href='https://www.geeksforgeeks.org/difference-between-sql-and-nosql/'><b><u>SQL or NoSQL</u></b></a> database as its source code.</p>\n",
    "    <p align=\"justify\"><b>Cloud Databases</b>: A collection of organized or unorganized data that is housed on a private, public, or hybrid cloud computing platform is known as a cloud database. Cloud database models come in two flavors: traditional and <a href='https://www.geeksforgeeks.org/overview-of-database-as-a-service/'><b><u>Database As A Service</u></b></a> (DBaaS). With DBaaS, a service provider handles maintenance and administrative duties.</p>\n",
    "</span>"
   ]
  },
  {
   "cell_type": "markdown",
   "metadata": {},
   "source": [
    "## <span style='color: #FF6A6A'><b>What Is DBMS?</b></span>\n",
    "\n",
    "<span>\n",
    "    <p align=\"justify\">Collection of interrelated data and set of programs to access data example – MySql, <a href='https://www.geeksforgeeks.org/oracle-architecture/'><b><u>Oracle</u></b></a>.</p>\n",
    "    <p align=\"justify\">1. An interface for operations like creation, deletion, modification, etc is provided by DBMS.</p>\n",
    "    <p align=\"justify\">2. DBMS accepts the request from the application and provides specific data through the operating system.</p>\n",
    "    <p align=\"justify\">3. DBMS contains a group of programs that acts according to the user’s instruction.</p>\n",
    "    <p align=\"justify\">4. It provides security to the database.</p>\n",
    "</span>"
   ]
  },
  {
   "cell_type": "markdown",
   "metadata": {},
   "source": [
    "## <span style='color: #FF6A6A'><b>Database Challenges</b></span>\n",
    "\n",
    "<span>\n",
    "    <p>Below are some challenges of Database:</p>\n",
    "    <p align=\"justify\">1. Absorbing substantial increases in the amount of data. Database administrators are constantly juggling the deluge of data pouring in from sensors, connected devices, and dozens of other sources in an attempt to effectively manage and organize the data of their organizations.</p>\n",
    "    <p align=\"justify\">2. Ensuring the safety of data. These days, data breaches are commonplace, and hackers are becoming more resourceful. Making sure that data is both easily available to users and secure is more crucial than ever.</p>\n",
    "    <p align=\"justify\">3. Meeting the demands. Companies require real-time access to their data in today’s fast-paced business climate in order to support prompt decision-making and seize new opportunities.</p>\n",
    "    <p align=\"justify\">4. Taking care of and managing the infrastructure and database. Database administrators are responsible for doing preventive maintenance, applying software patches and upgrades, and continuously monitoring the database for issues.</p>\n",
    "    <p align=\"justify\">5. Removing scalability restrictions. If a business is to thrive, it must expand, and as a result, so too must its data management. However, database administrators find it extremely challenging to forecast the amount of capacity that a business will require, especially when dealing with on-premises databases.</p>\n",
    "    <p align=\"justify\">6. Ensuring latency needs, data sovereignty, or residence. Certain businesses have use cases that are more appropriate for on-premises deployment. Under such circumstances, pre-optimized and pre-configured engineered systems are perfect for executing the database.</p>\n",
    "</span>"
   ]
  },
  {
   "cell_type": "markdown",
   "metadata": {},
   "source": [
    "## <span style='color: #FF6A6A'><b>FAQs On Database</b></span>\n",
    "\n",
    "### <b>Question 1: Why do we use database?</b>\n",
    "<span>\n",
    "    <p>Database software allows users to store and retrieve data in an organized manner, it simplifies data management. In order to help build and maintain the data, it usually features a graphical interface.</p>\n",
    "</span>\n",
    "\n",
    "### <b>Question 2: How to create a database?</b>\n",
    "<span>\n",
    "    <p>Create a database, Connect to the database engine, From the standard bar, select new Query.</p>\n",
    "</span>\n",
    "\n",
    "### <b>Question 3: Where is master database?</b>\n",
    "<span>\n",
    "    <p>The Program Files\\Microsoft SQL Server\\Mssql\\Data directory contains the msdb database file (msdb. mdf) and msdb log files (msdb. ldf).</p>\n",
    "</span>"
   ]
  }
 ],
 "metadata": {
  "kernelspec": {
   "display_name": "Python 3",
   "language": "python",
   "name": "python3"
  },
  "language_info": {
   "name": "python",
   "version": "3.12.3"
  }
 },
 "nbformat": 4,
 "nbformat_minor": 2
}
