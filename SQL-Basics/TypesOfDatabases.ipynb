{
 "cells": [
  {
   "cell_type": "markdown",
   "metadata": {},
   "source": [
    "# <span style='display: flex; justify-content: center; color: #DC143C'><b>TYPES OF DATABASES</b></span>"
   ]
  },
  {
   "cell_type": "markdown",
   "metadata": {},
   "source": [
    "<span align=\"justify\">\n",
    "    <p>A quick review of the present need to store massive chunks of data relevant to multiple related or unrelated categories, reveals that databases must be highly effective at what they are designed to do.</p>\n",
    "    <p>This is not only because of the amount of data being continuously revised or modified that we are dealing with the dynamics of it aren’t of sole interest anymore. It’s because of the social value that every individual has assigned to them: databases are the literal backbone of a client’s lifestyle or a business’s worth.</p>\n",
    "    <p>Designing different types of databases lies at the core of the functionality that they provide to the users. Since data is a dynamic entity, the way it is stored varies a lot. It is also the reason behind companies designing their own types of databases that comply with their needs. In this article, we will be discussing the types of Databases in detail.</p>\n",
    "</span>"
   ]
  },
  {
   "cell_type": "markdown",
   "metadata": {},
   "source": [
    "## <span style='color: #F08080'><b>Types Of Databases</b></span>\n",
    "<p>There are several types of databases, that are briefly explained below.</p>\n",
    "<span>\n",
    "    <p align=\"jutify\"><a href='https://www.geeksforgeeks.org/hierarchical-model-in-dbms/'><u>Hierarchical databases</u></a></p>\n",
    "    <p align=\"justify\"><a href='https://www.geeksforgeeks.org/network-model-in-dbms/'><u>Network databases</u></a></p>\n",
    "    <p align=\"justify\"><a href='https://www.geeksforgeeks.org/difference-between-rdbms-and-oodbms/'><u>Object-oriented databases</u></a></p>\n",
    "    <p align=\"justify\"><a href='https://www.geeksforgeeks.org/relational-model-in-dbms/'><u>Relational databases</u></a></p>\n",
    "    <p align=\"justify\"><a href='https://www.geeksforgeeks.org/introduction-to-nosql-cloud-database-services/'><u>Cloud database</u></a></p>\n",
    "    <p align=\"justify\"><a href='https://www.geeksforgeeks.org/comparison-centralized-decentralized-and-distributed-systems/'><u>Centralized database</u></a></p>\n",
    "    <p align=\"justify\"><a href='https://www.geeksforgeeks.org/differences-between-operational-database-systems-and-data-warehouse/'><u>Operational database</u></a></p>\n",
    "    <p align=\"justify\"><a href='https://www.geeksforgeeks.org/introduction-to-nosql/'><u>NoSQL databases</u></a></p>\n",
    "</span>"
   ]
  },
  {
   "cell_type": "markdown",
   "metadata": {},
   "source": [
    "## <span style='color: #F08080'><b>Hierarchical Databases</b></span>\n",
    "\n",
    "<div style='text-align: center;'>\n",
    "    <p align='justify'>Just as in any hierarchy, this database follows the progression of data being categorized in ranks or levels, wherein data is categorized based on a common point of linkage. As a result, two entities of data will be lower in rank and the commonality would assume a higher rank. Refer to the diagram below:</p>\n",
    "    <img src=\"https://media.geeksforgeeks.org/wp-content/uploads/20200414091301/Hierarchical-DB.png\" alt=\"Hierachical  Database Example\" width=500px height=250px>\n",
    "    <p align='justify'>Do note how Departments and Administration are entirely unlike each other and yet fall under the domain of a University. They are elements that form this hierarchy.</p>\n",
    "    <p align='justify'>Another perspective advises visualizing the data being organized in a parent-child relationship, which upon addition of multiple data elements would resemble a tree. The child records are linked to the parent record using a field, and so the parent record is allowed multiple child records. However, vice versa is not possible.</p>\n",
    "    <p align='justify'>Notice that due to such a structure, hierarchical databases are not easily salable; the addition of data elements requires a lengthy traversal through the database.</p>\n",
    "</div>"
   ]
  },
  {
   "cell_type": "markdown",
   "metadata": {},
   "source": [
    "## <span style='color: #F08080'><b>Hierarchical Databases</b></span>\n",
    "\n",
    "<div style='text-align: center;'>\n",
    "    <p align='justify'>In Layman’s terms, a network database is a hierarchical database, but with a major tweak. The child records are given the freedom to associate with multiple parent records. As a result, a network or net of database files linked with multiple threads is observed. Notice how the Student, Faculty, and Resources elements each have two-parent records, which are Departments and Clubs.</p>\n",
    "    <img src=\"https://media.geeksforgeeks.org/wp-content/uploads/20200414091455/Network-DB.png\" alt=\"Network Database Example\" width=500px height=250px>\n",
    "    <p align='justify'>Certainly, a complex framework, network databases are more capable of representing two-directional relationships. Also, conceptual simplicity favors the utilization of a simpler database management language.</p>\n",
    "    <p align='justify'>The disadvantage lies in the inability to alter the structure due to its complexity and also in it being highly structurally dependent.</p>\n",
    "</div>"
   ]
  },
  {
   "cell_type": "markdown",
   "metadata": {},
   "source": [
    "## <span style='color: #F08080'><b>Object-Oriented Databases</b></span>\n",
    "\n",
    "<div style='text-align: center;'>\n",
    "    <p align='justify'>Those familiar with the Object-Oriented Programming Paradigm would be able to relate to this model of databases easily. Information stored in a database is capable of being represented as an object which response as an instance of the database model. Therefore, the object can be referenced and called without any difficulty. As a result, the workload on the database is substantially reduced.</p>\n",
    "    <img src=\"https://media.geeksforgeeks.org/wp-content/uploads/20200414093006/Object-Oriented-DB.png\" alt=\"Object-Oriented Example\" alt=\"Network Database Example\" width=500px height=250px>\n",
    "    <p align='justify'>In the chart above, we have different objects linked to one another using methods; one can get the address of the Person (represented by the Person Object) using the livesAt() method. Furthermore, these objects have attributes which are in fact the data elements that need to be defined in the database.</p>\n",
    "    <p align='justify'>An example of such a model is the Berkeley DB software library which uses the same conceptual background to deliver quick and highly efficient responses to database queries from the embedded database.</p>\n",
    "</div>"
   ]
  },
  {
   "cell_type": "markdown",
   "metadata": {},
   "source": [
    "## <span style='color: #F08080'><b>Relational Databases</b></span>\n",
    "\n",
    "<div style='text-align: center;'>\n",
    "    <p align='justify'>Considered the most mature of all databases, these databases lead in the production line along with their management systems. In this database, every piece of information has a relationship with every other piece of information. This is on account of every data value in the database having a unique identity in the form of a record.</p>\n",
    "    <p align='justify'>Note that all data is tabulated in this model. Therefore, every row of data in the database is linked with another row using a primary key. Similarly, every table is linked with another table using a foreign key.</p>\n",
    "    <p align='justify'>Refer to the diagram below and notice how the concept of ‘Keys’ is used to link two tables.</p>\n",
    "    <img src=\"https://media.geeksforgeeks.org/wp-content/uploads/20200508135718/Capture3231.png\" alt=\"Relational Database Example\" width=500px height=250px>\n",
    "    <p align='justify'>Due to this introduction of tables to organize data, it has become exceedingly popular. In consequence, they are widely integrated into Web-Ap interfaces to serve as ideal repositories for user data. What makes it further interesting is the ease in mastering it, since the language used to interact with the database is simple (SQL in this case) and easy to comprehend.</p>\n",
    "    <p align='justify'>It is also worth being aware of the fact that in Relational databases, scaling and traversing through data is quite a light-weighted task in comparison to Hierarchical Databases.</p>\n",
    "</div>"
   ]
  },
  {
   "cell_type": "markdown",
   "metadata": {},
   "source": [
    "## <span style='color: #F08080'><b>Cloud Databases</b></span>\n",
    "\n",
    "<div align='justify'>\n",
    "    <p>A cloud database is used where data requires a virtual environment for storing and executing over the cloud platforms and there are so many cloud computing services for accessing the data from the databases (like SaaS, Paas, etc).</p>\n",
    "    <p>There are some names of cloud platforms:</p>\n",
    "    <p style='text-indent: 1cm'>+ Amazon Web Services (AWS)</p>\n",
    "    <p style='text-indent: 1cm'>+ Google Cloud Platform (GCP)</p>\n",
    "    <p style='text-indent: 1cm'>+ Microsoft Azure</p>\n",
    "    <p style='text-indent: 1cm'>+ ScienceSoft, etc.</p>\n",
    "</div>"
   ]
  },
  {
   "cell_type": "markdown",
   "metadata": {},
   "source": [
    "## <span style='color: #F08080'><b>Centralized Databases</b></span>\n",
    "\n",
    "<div align='justify'>\n",
    "    <p>A centralized database is basically a type of database that is stored, located as well as maintained at a single location and it is more secure when the user wants to fetch the data from the Centralized Database.</p>\n",
    "    <p><b>Advantages</b></p>\n",
    "    <p style='text-indent: 1cm'>+ Data Security</p>\n",
    "    <p style='text-indent: 1cm'>+ Reduced Redundancy</p>\n",
    "    <p style='text-indent: 1cm'>+ Consistency</p>\n",
    "    <p><b>Disadvantages</b></p>\n",
    "    <p style='text-indent: 1cm'>+ The size of the centralized database is large which increases the response and retrieval time.</p>\n",
    "    <p style='text-indent: 1cm'>+ It is not easy to modify, delete and update.</p>\n",
    "</div>"
   ]
  },
  {
   "cell_type": "markdown",
   "metadata": {},
   "source": [
    "## <span style='color: #F08080'><b>Personal Databases</b></span>\n",
    "\n",
    "<div align='justify'>\n",
    "    <p>Collecting and Storing the data on its own System and this type of databases is basically designed for the single user.</p>\n",
    "    <p><b>Advantages</b></p>\n",
    "    <p style='text-indent: 1cm'>+ It is easy to handle</p>\n",
    "    <p style='text-indent: 1cm'>+ It occupies less space</p>\n",
    "</div>"
   ]
  },
  {
   "cell_type": "markdown",
   "metadata": {},
   "source": [
    "## <span style='color: #F08080'><b>Operational Databases</b></span>\n",
    "\n",
    "<div align='justify'>\n",
    "    <p>It is used for creating, updating, and deleting the database in real-time and it is basically designed for executing and handling the daily data operation in organizations and businesses purposes.</p>\n",
    "    <p><b>Advantages</b></p>\n",
    "    <p style='text-indent: 1cm'>Easy to fetch</p>\n",
    "    <p style='text-indent: 1cm'>Structured data</p>\n",
    "    <p style='text-indent: 1cm'>Real-time processing</p>\n",
    "</div>"
   ]
  },
  {
   "cell_type": "markdown",
   "metadata": {},
   "source": [
    "## <span style='color: #F08080'><b>NoSQL Databases</b></span>\n",
    "\n",
    "<div align='justify'>\n",
    "    <p>A NoSQL originally referring to non SQL or non-relational is a database that provides a mechanism for storage and retrieval of data. This data is modeled in means other than the tabular relations used in relational databases.</p>\n",
    "    <p>A NoSQL database includes simplicity of design, simpler horizontal scaling to clusters of machines, and finer control over availability. The data structures used by NoSQL databases are different from those used by default in relational databases which makes some operations faster in NoSQL. The suitability of a given NoSQL database depends on the problem it should solve. Data structures used by NoSQL databases are sometimes also viewed as more flexible than relational database tables.</p>\n",
    "    <p>MongoDB falls in the category of NoSQL document-based database.</p>\n",
    "    <p><b>Advantages of NoSQL</b></p>\n",
    "    <p>There are many advantages of working with NoSQL databases such as MongoDB and Cassandra. The main advantages are high scalability and high availability.</p>\n",
    "    <p><b>Disadvantages of NoSQL</b></p>\n",
    "    <p>NoSQL has the following disadvantages:</p>\n",
    "    <p style='text-indent: 1cm'>+ NoSQL is an open-source database.</p>\n",
    "    <p style='text-indent: 1cm'>+ GUI is not available</p>\n",
    "    <p style='text-indent: 1cm'>+ Backup is a weak point for some NoSQL databases like MongoDB.</p>\n",
    "    <p style='text-indent: 1cm'>+ Large document size.</p>\n",
    "    <p>These are but a few types of database structures which represent the fundamental concepts extensively used in the industry. However, as mentioned earlier, clients tend to focus on creating databases which would suit their own needs; to store data in a schema which showcases a variable functionality based on its blueprint. Hence, the scope for development in reference to databases and database management systems is bright.</p>\n",
    "</div>"
   ]
  },
  {
   "cell_type": "markdown",
   "metadata": {},
   "source": [
    "## <span style='color: #F08080'><b>Frequently Asked Questions</b></span>\n",
    "\n",
    "<div align='justify'>\n",
    "    <p><b>Q.1: What are the most common SQL database types?</b></p>\n",
    "    <p><b>Answer</b></p>\n",
    "    <p style='text-indent: 1cm'>Relational databases and non-relational databases are the two basic categories of databases in SQL.</p>\n",
    "    <p><b>Q.2: Which NewSQL databases are the mostly used?</b></p>\n",
    "    <p><b>Answer</b></p>\n",
    "    <p style='text-indent: 1cm'>The most popular NewSQL databases are CockroachDB and NuoDB, Spanner etc.</p>\n",
    "    <p><b>Q.3: In SQL,What is a database?</b></p>\n",
    "    <p><b>Answer</b></p>\n",
    "    <p style='text-indent: 1cm'>A database in SQL is an organized collection of Structured data. Databases help us with efficiently storing, accessing, and manipulating data held on a computer system or Server.</p>\n",
    "</div>"
   ]
  }
 ],
 "metadata": {
  "kernelspec": {
   "display_name": "Python 3",
   "language": "python",
   "name": "python3"
  },
  "language_info": {
   "name": "python",
   "version": "3.12.3"
  }
 },
 "nbformat": 4,
 "nbformat_minor": 2
}
