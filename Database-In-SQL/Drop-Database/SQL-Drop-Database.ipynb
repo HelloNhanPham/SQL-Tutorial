{
 "cells": [
  {
   "cell_type": "markdown",
   "metadata": {},
   "source": [
    "# <span style='display: flex; justify-content: center; color: #E54646'><b>SQL DROP DATABASE</b></span>"
   ]
  },
  {
   "cell_type": "markdown",
   "metadata": {},
   "source": [
    "<div align='justify'>\n",
    "    <p><b>SQL DROP DATABASE statement</b> deletes an existing database from the system, and once deleted, users can not retrieve that database.</p>\n",
    "    <p>The <b>DROP DATABASE</b> command in SQL deletes the database along with its data, like tables, views, indexes, constraints, and properties like permissions and schemas.</p>\n",
    "</div>"
   ]
  },
  {
   "cell_type": "markdown",
   "metadata": {},
   "source": [
    "## <span style='color: #F5A89A'><b>Syntax</b></span>\n",
    "\n",
    "<div align='justify'>\n",
    "    <p>SQL DROP TABLE syntax is:</p>\n",
    "    <pre align='center'><code><b><strong>DROP DATABASE</strong></b> database_name;</code></pre>\n",
    "</div>"
   ]
  },
  {
   "cell_type": "markdown",
   "metadata": {},
   "source": [
    "## <span style='color: #F5A89A'><b>SQL DROP DATABASE Examples</b></span>\n",
    "\n",
    "<div align='justify'>\n",
    "    <p>Let’s look at some examples of the DROP DATABASE statement in SQL.</p>\n",
    "    <p>First, let’s create a database on which we will run the query.</p>\n",
    "    <pre align='center'><code><b><strong>DROP DATABASE</strong></b> GeeksForGeeks;</code></pre>\n",
    "    <p>Now if we look at the list of databases in our system, we can find the “GeeksforGeeks” database.</p>\n",
    "</div>"
   ]
  },
  {
   "cell_type": "markdown",
   "metadata": {},
   "source": [
    "## <span style='color: #F5A89A'><b>Verify DROP DATABASE Statement</b></span>\n",
    "\n",
    "<div align='justify'>\n",
    "    <p>After the database has been deleted/dropped successfully we will now verify that whether the database exist in the system or not. So, we will once again use the SHOW DATABASES command and verify that the GeeksForGeeks database has been deleted or not.</p>\n",
    "</div>"
   ]
  },
  {
   "cell_type": "markdown",
   "metadata": {},
   "source": [
    "## <span style='color: #F5A89A'><b>SQL DROP DATABASE IF EXISTS</b></span>\n",
    "\n",
    "<div align='justify'>\n",
    "    <p>To avoid any error while running the DROP DATABASE command use the <a href='https://www.geeksforgeeks.org/sql-exists/'><b><u>IF EXISTS clause</u></b></a>, which will delete the database only if it exists in the system.</p>\n",
    "</div>\n",
    "\n",
    "### <span style='color: #EC870E'><b>Syntax</b></span>\n",
    "\n",
    "<pre align='center'><code><b><strong>DROP DATABASE IF EXISTS</strong></b> Database_Name;</code></pre>"
   ]
  },
  {
   "cell_type": "markdown",
   "metadata": {},
   "source": [
    "## <span style='color: #F5A89A'><b>Important Points About SQL DROP DATABASE Statement</b></span>\n",
    "\n",
    "<div align='justify'>\n",
    "\n",
    "+ <b style='color: #EC870E'>Deleting a database</b>: Deleting a database is a permanent action and will result in the loss of all information stored in the database.\n",
    "+ <b style='color: #EC870E'>Backup</b>: Make sure you have taken proper backup of the database before you delete it.\n",
    "+ <b style='color: #EC870E'>Privileges</b>: Make sure you have the necessary privilege to delete the database. Usually an admin can delete the database.\n",
    "+ <b style='color: #EC870E'>Database state</b>: A database can be dropped regardless of its state: offline, read-only, suspect, and so on.\n",
    "+ <b style='color: #EC870E'>Database snapshots</b>: Dropping a database snapshot deletes the database snapshot from an instance of SQL Server and deletes the physical NTFS File System sparse files used by the snapshot.\n",
    "+ <b style='color: #EC870E'>Replication</b>: To drop a database published for transactional replication, or published or subscribed to merge replication, you must first remove replication from the database.\n",
    "+ <b style='color: #EC870E'>System databases</b>: System databases cannot be dropped.\n",
    "\n",
    "</div>"
   ]
  }
 ],
 "metadata": {
  "language_info": {
   "name": "python"
  }
 },
 "nbformat": 4,
 "nbformat_minor": 2
}
