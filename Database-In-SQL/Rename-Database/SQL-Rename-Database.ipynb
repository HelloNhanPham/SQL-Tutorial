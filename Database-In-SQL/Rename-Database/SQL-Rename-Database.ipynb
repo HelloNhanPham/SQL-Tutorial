{
 "cells": [
  {
   "cell_type": "markdown",
   "metadata": {},
   "source": [
    "# <span style='display: flex; justify-content: center; color: #E54646'><b>SQL QUERY TO RENAME DATABASE</b></span>"
   ]
  },
  {
   "cell_type": "markdown",
   "metadata": {},
   "source": [
    "<div align='justify'>\n",
    "    <p>To rename a database in SQL use the <b>ALTER DATABASE Statement</b> with <b>MODIFY NAME clause</b>.</p>\n",
    "    <p>The <b>ALTER command in SQL</b> is used to make changes to a table or database. In this article, we will learn <b>how to use the ALTER DATABASE</b> statement with the MODIFY NAME clause to rename a database.</p>\n",
    "</div>"
   ]
  },
  {
   "cell_type": "markdown",
   "metadata": {},
   "source": [
    "## <span style='color: #F5A89A'><b>How to Rename Database in SQL?</b></span>\n",
    "\n",
    "<div align='justify'>\n",
    "    <p>To change the name of a database in <b>SQL</b>, use the syntax:</p>\n",
    "    <pre align='center'><code><b><strong>ALTER DATABASE</strong></b> [current_database_name]</code></pre>\n",
    "    <pre align='center'><code><b><strong>MODIFY NAME =</strong></b> [new_database_name];</code></pre>\n",
    "    <p>To rename a database in <b>MySQL</b> use the query:</p>\n",
    "    <pre align='center'><code><b><strong>RENAME DATABASE</strong></b> [current_database_name] <b><strong>TO</strong></b> [new_database_name];</code></pre>\n",
    "    <pre><code><b>Note: SQL RENAME DATABASE</b> statement is used in <a href='https://www.geeksforgeeks.org/mysql-tutorial/'><b><u>MySQL</u></b></a>, and for other SQL distributions, we need to use ALTER DATABASE statement with MODIDY NAME clause.</code></pre>\n",
    "</div>"
   ]
  }
 ],
 "metadata": {
  "language_info": {
   "name": "python"
  }
 },
 "nbformat": 4,
 "nbformat_minor": 2
}
