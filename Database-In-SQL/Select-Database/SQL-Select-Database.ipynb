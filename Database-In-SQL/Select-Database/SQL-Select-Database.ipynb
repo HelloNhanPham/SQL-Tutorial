{
 "cells": [
  {
   "cell_type": "markdown",
   "metadata": {},
   "source": [
    "# <span style='display: flex; justify-content: center; color: #E54646'><b>SQL SELECT DATABASE</b></span>"
   ]
  },
  {
   "cell_type": "markdown",
   "metadata": {},
   "source": [
    "<div align='justify'>\n",
    "    <p>The <b>USE DATABASE statement</b> allows users to <b>select the database</b> on which they want to work. Users can select a specific database to edit/work from a list of databases.</p>\n",
    "    <p>To use a database and create tables, we need to first select the database, and here we will learn <b>how to select a database in SQL</b>.</p>\n",
    "</div>"
   ]
  },
  {
   "cell_type": "markdown",
   "metadata": {},
   "source": [
    "## <span style='color: #F5A89A'><b>Syntax to Select a Database in SQL</b></span>\n",
    "\n",
    "<div align='justify'>\n",
    "    <p>The syntax to select a database in SQL is:</p>\n",
    "    <pre align='center'><code><b><strong>USE</strong></b> [database_name]</code></pre>\n",
    "</div>"
   ]
  },
  {
   "cell_type": "markdown",
   "metadata": {},
   "source": [
    "## <span style='color: #F5A89A'><b>List Of All That Is Needed</b></span>\n",
    "\n",
    "<div align='justify'>\n",
    "    <p>Let’s look at an example of <b>how to select a database in SQL</b>.</p>\n",
    "    <p>First, let’s create a database using <a href='https://www.geeksforgeeks.org/sql-create-database/'><b><u>CREATE DATABASE</u></b></a> statement.</p>\n",
    "</div>\n",
    "\n",
    "<div align='justify'>\n",
    "    <p>Now we will verify whether the new database that we have just created has been successfully added to our system or not. We use the <a href='https://www.geeksforgeeks.org/sql-show-databases/'><b><u>SHOW DATABASES</u></b></a> command and it will return a list of databases to our system.</p>\n",
    "</div>"
   ]
  },
  {
   "cell_type": "markdown",
   "metadata": {},
   "source": [
    "## <span style='color: #F5A89A'><b>SQL Select Database</b></span>\n",
    "\n",
    "<div align='justify'>\n",
    "    <p>Now to select the database, we use the <a href='https://www.geeksforgeeks.org/sql-use-database-statement/'><b><u>USE DATABASE</u></b></a> command. So now we will select our database Example.</p>\n",
    "    <pre align='center'><code><b><strong>USE</strong></b> Example</code></pre>\n",
    "    <p>After this, we can create table in this database, and do our work.</p>\n",
    "</div>"
   ]
  },
  {
   "cell_type": "markdown",
   "metadata": {},
   "source": [
    "## <span style='color: #F5A89A'><b>Create Table Without Selecting a Database</b></span>\n",
    "\n",
    "<div align='justify'>\n",
    "    <p>Now let’s take a case where we haven’t selected the database but we are creating a new table. In this case, we will get an error from MYSQL stating ‘No database selected’ meaning that as no database was selected MYSQL cannot figure out in which database we are creating this table.</p>\n",
    "<span align='center'>\n",
    "\n",
    "![](https://media.geeksforgeeks.org/wp-content/uploads/20230829000345/Screenshot-2023-08-29-000327.png)\n",
    "</span>\n",
    "</div>"
   ]
  },
  {
   "cell_type": "markdown",
   "metadata": {},
   "source": [
    "## <span style='color: #F5A89A'><b>Conclusion</b></span>\n",
    "\n",
    "<div align='justify'>\n",
    "    <p>In SQL, always select the database before starting to work with the database. To select a database in SQL, use the USE database command.</p>\n",
    "    <p>After creating a database we need to select that database first to tell SQL which database we are working on. If we directly start creating tables then SQL will give an error stating that <b>‘No Database Selected‘.</b></p>\n",
    "</div>"
   ]
  },
  {
   "cell_type": "markdown",
   "metadata": {},
   "source": [
    "## <span style='color: #F5A89A'><b>SQL Select Database – FAQs</b></span>\n",
    "\n",
    "### <span style='color: #EC870E'><b>Why do we need to Select a Database?</b></span>\n",
    "\n",
    "<div align='justify'>\n",
    "    <p>We need to Select a Database to state SQL about the database we will be using for storing the data.</p>\n",
    "</div>\n",
    "\n",
    "### <span style='color: #EC870E'><b>What if we don’t select the database?</b></span>\n",
    "\n",
    "<div align='justify'>\n",
    "    <p>In case you don’t select the database and start working with it, MYSQL we give you an error ‘No database selected’.</p>\n",
    "</div>\n",
    "\n",
    "### <span style='color: #EC870E'><b>How to select a database in MYSQL?</b></span>\n",
    "\n",
    "<div align='justify'>\n",
    "    <p>To select a database in MYSQL we take help of USE command.</p>\n",
    "</div>"
   ]
  }
 ],
 "metadata": {
  "language_info": {
   "name": "python"
  }
 },
 "nbformat": 4,
 "nbformat_minor": 2
}
