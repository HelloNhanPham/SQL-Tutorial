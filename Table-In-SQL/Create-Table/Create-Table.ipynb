{
 "cells": [
  {
   "cell_type": "markdown",
   "metadata": {},
   "source": [
    "# <span style='display: flex; justify-content: center; color: #E54646'><b>SQL CREATE TABLE</b></span>"
   ]
  },
  {
   "cell_type": "markdown",
   "metadata": {},
   "source": [
    "<div align='justify'>\n",
    "    <p><b>CREATE TABLE</b> command creates a new table in the database in SQL. In this article, we will learn about <b>CREATE TABLE in SQL</b> with examples and syntax.</p>\n",
    "</div>"
   ]
  },
  {
   "cell_type": "markdown",
   "metadata": {},
   "source": [
    "## <span style='color: #F5A89A'><b>SQL CREATE TABLE Statement</b></span>\n",
    "\n",
    "<div align='justify'>\n",
    "    <p>SQL CREATE TABLE Statement is used to create a new table in a database. Users can define the table structure by specifying the column’s name and data type in the CREATE TABLE command.</p>\n",
    "    <p>This statement also allows to create table with <a href='https://www.geeksforgeeks.org/sql-constraints/'><b><u>constraints</u></b></a>, that define the rules for the table. Users can create tables in SQL and insert data at the time of table creation.</p>\n",
    "</div>\n",
    "\n",
    "### <span style='color: #EC870E'><b>Syntax</b></span>\n",
    "\n",
    "<div align='justify'>\n",
    "    <p>To create a table in SQL, use this <b>CREATE TABLE syntax</b>:</p>\n",
    "    <pre><code>CREATE table table_name<br>(<br>Column1 datatype (size),<br>column2 datatype (size),<br>.<br>.<br>columnN datatype(size)<br>);</code></pre>\n",
    "    <p>Here <b>table_name</b> is name of the table, <b>column</b> is the name of column</p>\n",
    "</div>"
   ]
  },
  {
   "cell_type": "markdown",
   "metadata": {},
   "source": [
    "## <span style='color: #F5A89A'><b>SQL CREATE TABLE Example</b></span>\n",
    "\n",
    "<div align='justify'>\n",
    "    <p>Let’s look at some examples of CREATE TABLE command in SQL and see <b>how to create table in SQL</b>.</p>\n",
    "</div>\n",
    "\n",
    "### <span style='color: #EC870E'><b>CREATE TABLE EMPLOYEE Example</b></span>\n",
    "\n",
    "<div align='justify'>\n",
    "    <p>In this example, we will create table in SQL with <a href='https://www.geeksforgeeks.org/primary-key-constraint-in-sql/'><b><u>primary key</u></b></a>, named “EMPLOYEE”.</p>\n",
    "    <b><pre style='background-color: white; color: black'><b><strong>CREATE TABLE</strong></b><span> Employee (</span><br/><span>    EmployeeID INT </span><b><strong>PRIMARY KEY</strong></b><span>,</span><br/><span>    FirstName VARCHAR(50),</span><br/><span>    LastName VARCHAR(50),</span><br/><span>    Department VARCHAR(50),</span><br/><span>    Salary DECIMAL(10, 2)</span><br/><span>);</span></b></pre></b>\n",
    "</div>\n",
    "\n",
    "### <span style='color: #EC870E'><b>CREATE TABLE in SQL and Insert Data</b></span>\n",
    "\n",
    "<div align='justify'>\n",
    "    <p>In this example, we will create a new table and insert data into it.</p>\n",
    "    <p>Let us create a table to store data of Customers, so the table name is Customer, Columns are Name, Country, age, phone, and so on.</p>\n",
    "    <b><pre style='background-color: white; color: black'><span>CREATE TABLE Customer(</span><br/><span>    CustomerID INT PRIMARY KEY,</span><br/><span>    CustomerName VARCHAR(50),</span><br/><span>    LastName VARCHAR(50),</span><br/><span>    Country VARCHAR(50),</span><br/><span>    Age INT CHECK (Age &gt;= 0 AND Age &lt;= 99),</span><br/><span>    Phone int(10)</span><br/><span>);</span></pre></b>\n",
    "    <p><strong>Output</strong></p>\n",
    "    <span align='center'><p><img src=\"https://media.geeksforgeeks.org/wp-content/uploads/20230405170945/Screenshot-from-2023-04-05-17-09-24.png\"></p></span>\n",
    "    <p>To add data to the table, we use <a href='https://www.geeksforgeeks.org/sql-insert-statement/?_gl=1*10nxbhd*_ga*VGNzN3NoclQ2ZWtRUk5vcFh4a0pRekN4OEJqMkxSTmd6MGxNY2FTZGNUbDF5a0NyTE00OWI2NTMxaFZUdk01YQ..*_ga_E752F18V9F*MTcyMDIyMTkwNi4yOC4xLjE3MjAyMjE5MDcuMC4wLjA.'><b><u>INSERT INTO command</u></b></a>, the syntax is as shown below:</p>\n",
    "    <p><strong>Syntax</strong></p>\n",
    "    <b><pre style='background-color: white; color: black'><span style='color: #BD6B09'><strong>INSERT INTO</strong></span> table_name (column1, column2, …)<br><span style='color: #BD6B09'>VALUES</span> (value1, value2, …);</pre></b>\n",
    "    <p><strong>Example Query</strong></p>\n",
    "    <p>This query will add data in the table named Subject</p>\n",
    "    <b><pre style='background-color: white; color: black'><span style='color: #BD6B09'>INSERT INTO</span> Customer (CustomerID, CustomerName, LastName, Country, Age, Phone)<br><span style='color: #BD6B09'>VALUES</span> (1, 'Shubham', 'Thakur', 'India','23','xxxxxxxxxx'),<br>       (2, 'Aman ', 'Chopra', 'Australia','21','xxxxxxxxxx'),<br>       (3, 'Naveen', 'Tulasi', 'Sri lanka','24','xxxxxxxxxx'),<br>       (4, 'Aditya', 'Arpan', 'Austria','21','xxxxxxxxxx'),<br>       (5, 'Nishant. Salchichas S.A.', 'Jain', 'Spain','22','xxxxxxxxxx');</pre></b>\n",
    "    <p><strong>Output</strong></p>\n",
    "    <span align='center'><p><img src=\"https://media.geeksforgeeks.org/wp-content/uploads/20230405171604/Screenshot-from-2023-04-05-17-15-53.png\"></p></span>\n",
    "</div>"
   ]
  },
  {
   "cell_type": "markdown",
   "metadata": {},
   "source": [
    "## <span style='color: #F5A89A'><b>Create Table From Another Table</b></span>\n",
    "\n",
    "<div align='justify'>\n",
    "    <p>We can also use CREATE TABLE to create a copy of an existing table. In the new table, it gets the exact column definition all columns or specific columns can be selected.</p>\n",
    "    <p>If an existing table was used to create a new table, by default the new table would be populated with the existing values ??from the old table.</p>\n",
    "    <p><strong>Syntax</strong></p>\n",
    "    <b><pre style='background-color: white; color: black'><span style='color: #BD6B09'>CREATE TABLE</span> new_table_name <span style='color: #BD6B09'>AS</span><br><span style='color: #BD6B09'>SELECT</span> column1, column2,…<br><span style='color: #BD6B09'>FROM</span> existing_table_name<br><span style='color: #BD6B09'>WHERE</span> ….;</pre></b>\n",
    "    <p><strong>Query</strong></p>\n",
    "    <b><pre style='background-color: white; color: black'><span style='color: #BD6B09'>CREATE TABLE</span> SubTable AS<br><span style='color: #BD6B09'>SELECT</span> CustomerID, CustomerName<br><span style='color: #BD6B09'>FROM</span> customer;</pre></b>\n",
    "    <p><strong>Output</strong></p>\n",
    "    <span align='center'><p><img src=\"https://media.geeksforgeeks.org/wp-content/uploads/20230405172312/Screenshot-from-2023-04-05-17-23-01.png\"></p></span>\n",
    "    <p><b><strong>Note</strong></b>: We can use * instead of column name to copy whole table to another table.</p>\n",
    "</div>"
   ]
  },
  {
   "cell_type": "markdown",
   "metadata": {},
   "source": [
    "## <span style='color: #F5A89A'><b>Important Points About SQL CREATE TABLE Statement</b></span>\n",
    "\n",
    "<div align='justify'>\n",
    "\n",
    "+ CREATE TABLE statement is used to create new table in a database.\n",
    "+ It defines the structure of table including name and datatype of columns.\n",
    "+ The DESC table_name; command can be used to display the structure of the created table\n",
    "+ We can also add constraint to table like NOT NULL, UNIQUE, CHECK, and DEFAULT.\n",
    "+ If you try to create a table that already exists, MySQL will throw an error. To avoid this, you can use the <strong>CREATE TABLE IF NOT EXISTS</strong> syntax.\n",
    "\n",
    "</div>"
   ]
  }
 ],
 "metadata": {
  "language_info": {
   "name": "python"
  }
 },
 "nbformat": 4,
 "nbformat_minor": 2
}
