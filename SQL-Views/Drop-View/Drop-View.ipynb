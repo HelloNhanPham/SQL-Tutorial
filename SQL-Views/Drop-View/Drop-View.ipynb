{
 "cells": [
  {
   "cell_type": "markdown",
   "metadata": {},
   "source": [
    "<div style='text-indent: 0 cm; background-color: white; color: black; padding-top: 20px; padding-bottom: 10px;'>\n",
    "\n",
    "# <span style='display: flex; justify-content: center; color: #E54646'><b>DELETE VIEWS in SQL</b></span>\n",
    "\n",
    "<div align='justify'>\n",
    "<blockquote style='background-color: white; color: black'>\n",
    "\n",
    "<p>SQL allows us to delete an existing View. We can delete or drop View using the DROP statement.</p>\n",
    "\n",
    "<p><strong>Syntax</strong></p>\n",
    "\n",
    "<table align='center' style='border: solid white; padding-top: 20px; padding-bottom: 0px;'>\n",
    "  <tr>\n",
    "    <td style='background-color: #F0F0F0'>\n",
    "      <strong>\n",
    "        <span style='color: #BD6B09'>DROP VIEW</span> <span style='color: #000000'>view_name</span>;\n",
    "      </strong>\n",
    "    </td>\n",
    "  </tr>\n",
    "</table>\n",
    "\n",
    "<p><strong>Example</strong></p>\n",
    "\n",
    "<p>In this example, we are deleting the View <strong>MarksView</strong>.</p>\n",
    "\n",
    "<table align='center' style='border: solid white; padding-top: 20px; padding-bottom: 0px;'>\n",
    "  <tr>\n",
    "    <td style='background-color: #F0F0F0'>\n",
    "      <strong>\n",
    "        <span style='color: #BD6B09'>DROP VIEW</span> <span style='color: #000000'>MarksView</span>;\n",
    "      </strong>\n",
    "    </td>\n",
    "  </tr>\n",
    "</table>\n"
   ]
  }
 ],
 "metadata": {
  "kernelspec": {
   "display_name": "Python 3",
   "language": "python",
   "name": "python3"
  },
  "language_info": {
   "name": "python",
   "version": "3.12.3"
  }
 },
 "nbformat": 4,
 "nbformat_minor": 2
}
